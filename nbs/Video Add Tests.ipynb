{
 "cells": [
  {
   "cell_type": "code",
   "execution_count": 13,
   "id": "595bc924",
   "metadata": {},
   "outputs": [
    {
     "name": "stdout",
     "output_type": "stream",
     "text": [
      "/Users/cfe/Dev/video-membership\n"
     ]
    }
   ],
   "source": [
    "%cd ~/Dev/video-membership"
   ]
  },
  {
   "cell_type": "code",
   "execution_count": 24,
   "id": "921f0230",
   "metadata": {},
   "outputs": [],
   "source": [
    "from app import db\n",
    "from app.playlists.models import Playlist\n",
    "from app.users.models import User\n",
    "from app.videos.models import Video\n",
    "\n",
    "from cassandra.cqlengine.management import sync_table"
   ]
  },
  {
   "cell_type": "code",
   "execution_count": 25,
   "id": "06db883b",
   "metadata": {},
   "outputs": [],
   "source": [
    "db.get_session()\n",
    "sync_table(User)\n",
    "sync_table(Video)\n",
    "sync_table(Playlist)"
   ]
  },
  {
   "cell_type": "code",
   "execution_count": 16,
   "id": "a6353b45",
   "metadata": {},
   "outputs": [],
   "source": [
    "url = 'https://www.youtube.com/watch?v=nNpvWBuTfrc'"
   ]
  },
  {
   "cell_type": "code",
   "execution_count": 17,
   "id": "76c2905b",
   "metadata": {},
   "outputs": [
    {
     "data": {
      "text/plain": [
       "User(email=abc@teamcfe.com, user_id=9301d5ea-5544-11ec-b5af-acde48001122)"
      ]
     },
     "execution_count": 17,
     "metadata": {},
     "output_type": "execute_result"
    }
   ],
   "source": [
    "abc = User.objects.get(email='abc@teamcfe.com')\n",
    "abc"
   ]
  },
  {
   "cell_type": "code",
   "execution_count": 18,
   "id": "e02905cf",
   "metadata": {},
   "outputs": [
    {
     "ename": "VideoAlreadyAddedException",
     "evalue": "Video already added",
     "output_type": "error",
     "traceback": [
      "\u001b[0;31m---------------------------------------------------------------------------\u001b[0m",
      "\u001b[0;31mVideoAlreadyAddedException\u001b[0m                Traceback (most recent call last)",
      "\u001b[0;32m/var/folders/ng/dc2j4rj50ts_56kgvdgyl3c00000gp/T/ipykernel_89471/697704430.py\u001b[0m in \u001b[0;36m<module>\u001b[0;34m\u001b[0m\n\u001b[0;32m----> 1\u001b[0;31m \u001b[0mobj\u001b[0m \u001b[0;34m=\u001b[0m \u001b[0mVideo\u001b[0m\u001b[0;34m.\u001b[0m\u001b[0madd_video\u001b[0m\u001b[0;34m(\u001b[0m\u001b[0murl\u001b[0m\u001b[0;34m,\u001b[0m \u001b[0muser_id\u001b[0m\u001b[0;34m=\u001b[0m\u001b[0mabc\u001b[0m\u001b[0;34m.\u001b[0m\u001b[0muser_id\u001b[0m\u001b[0;34m)\u001b[0m\u001b[0;34m\u001b[0m\u001b[0;34m\u001b[0m\u001b[0m\n\u001b[0m",
      "\u001b[0;32m~/Dev/video-membership/app/videos/models.py\u001b[0m in \u001b[0;36madd_video\u001b[0;34m(url, user_id, **kwargs)\u001b[0m\n\u001b[1;32m     83\u001b[0m         \u001b[0;32mif\u001b[0m \u001b[0mq\u001b[0m\u001b[0;34m.\u001b[0m\u001b[0mcount\u001b[0m\u001b[0;34m(\u001b[0m\u001b[0;34m)\u001b[0m \u001b[0;34m!=\u001b[0m \u001b[0;36m0\u001b[0m\u001b[0;34m:\u001b[0m\u001b[0;34m\u001b[0m\u001b[0;34m\u001b[0m\u001b[0m\n\u001b[1;32m     84\u001b[0m             \u001b[0;32mraise\u001b[0m \u001b[0mVideoAlreadyAddedException\u001b[0m\u001b[0;34m(\u001b[0m\u001b[0;34m\"Video already added\"\u001b[0m\u001b[0;34m)\u001b[0m\u001b[0;34m\u001b[0m\u001b[0;34m\u001b[0m\u001b[0m\n\u001b[0;32m---> 85\u001b[0;31m         \u001b[0;32mreturn\u001b[0m \u001b[0mVideo\u001b[0m\u001b[0;34m.\u001b[0m\u001b[0mcreate\u001b[0m\u001b[0;34m(\u001b[0m\u001b[0mhost_id\u001b[0m\u001b[0;34m=\u001b[0m\u001b[0mhost_id\u001b[0m\u001b[0;34m,\u001b[0m \u001b[0muser_id\u001b[0m\u001b[0;34m=\u001b[0m\u001b[0muser_id\u001b[0m\u001b[0;34m,\u001b[0m \u001b[0murl\u001b[0m\u001b[0;34m=\u001b[0m\u001b[0murl\u001b[0m\u001b[0;34m,\u001b[0m \u001b[0;34m**\u001b[0m\u001b[0mkwargs\u001b[0m\u001b[0;34m)\u001b[0m\u001b[0;34m\u001b[0m\u001b[0;34m\u001b[0m\u001b[0m\n\u001b[0m\u001b[1;32m     86\u001b[0m \u001b[0;34m\u001b[0m\u001b[0m\n\u001b[1;32m     87\u001b[0m \u001b[0;34m\u001b[0m\u001b[0m\n",
      "\u001b[0;31mVideoAlreadyAddedException\u001b[0m: Video already added"
     ]
    }
   ],
   "source": [
    "obj = Video.add_video(url, user_id=abc.user_id)"
   ]
  },
  {
   "cell_type": "code",
   "execution_count": null,
   "id": "d19b37d5",
   "metadata": {},
   "outputs": [],
   "source": [
    "obj"
   ]
  },
  {
   "cell_type": "code",
   "execution_count": null,
   "id": "305b7b5d",
   "metadata": {},
   "outputs": [],
   "source": [
    "url = 'https://www.youtube.com/watch?v=9ix7TUGVYIo'\n",
    "obj = Video.add_video(url, user_id=abc.user_id)"
   ]
  },
  {
   "cell_type": "code",
   "execution_count": null,
   "id": "b2ba5c67",
   "metadata": {},
   "outputs": [],
   "source": [
    "obj.host_id"
   ]
  },
  {
   "cell_type": "code",
   "execution_count": 23,
   "id": "921cdd06",
   "metadata": {},
   "outputs": [
    {
     "data": {
      "text/plain": [
       "(Video(title=None, host_id=9C85o8jIgUU, host_service=youtube), False)"
      ]
     },
     "execution_count": 23,
     "metadata": {},
     "output_type": "execute_result"
    }
   ],
   "source": [
    "url = 'https://www.youtube.com/watch?v=9C85o8jIgUU'\n",
    "obj_2, created = Video.get_or_create(url, user_id=abc.user_id)\n",
    "obj_2, created"
   ]
  },
  {
   "cell_type": "code",
   "execution_count": 31,
   "id": "8991d453",
   "metadata": {},
   "outputs": [
    {
     "data": {
      "text/plain": [
       "Playlist(db_id=UUID('c52b68ca-6024-11ec-8b94-acde48001122'), user_id=None, updated=datetime.datetime(2021, 12, 18, 18, 18, 20, 398971), host_ids=['9C85o8jIgUU'], title='hello world')"
      ]
     },
     "execution_count": 31,
     "metadata": {},
     "output_type": "execute_result"
    }
   ],
   "source": [
    "playlist_obj = Playlist.objects.all().first()\n",
    "playlist_obj.add_host_ids(host_ids=[obj_2.host_id], replace_all=True)\n",
    "playlist_obj.save()"
   ]
  },
  {
   "cell_type": "code",
   "execution_count": null,
   "id": "3eea17ce",
   "metadata": {},
   "outputs": [],
   "source": []
  }
 ],
 "metadata": {
  "kernelspec": {
   "display_name": "Python 3 (ipykernel)",
   "language": "python",
   "name": "python3"
  },
  "language_info": {
   "codemirror_mode": {
    "name": "ipython",
    "version": 3
   },
   "file_extension": ".py",
   "mimetype": "text/x-python",
   "name": "python",
   "nbconvert_exporter": "python",
   "pygments_lexer": "ipython3",
   "version": "3.9.7"
  }
 },
 "nbformat": 4,
 "nbformat_minor": 5
}
