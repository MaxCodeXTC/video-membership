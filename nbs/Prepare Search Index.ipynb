{
 "cells": [
  {
   "cell_type": "code",
   "execution_count": 1,
   "id": "595bc924",
   "metadata": {},
   "outputs": [
    {
     "name": "stdout",
     "output_type": "stream",
     "text": [
      "/Users/cfe/Dev/video-membership\n"
     ]
    }
   ],
   "source": [
    "%cd ~/Dev/video-membership"
   ]
  },
  {
   "cell_type": "code",
   "execution_count": 2,
   "id": "921f0230",
   "metadata": {},
   "outputs": [],
   "source": [
    "from app import db\n",
    "from app.playlists.models import Playlist\n",
    "from app.users.models import User\n",
    "from app.videos.models import Video\n",
    "\n",
    "from cassandra.cqlengine.management import sync_table"
   ]
  },
  {
   "cell_type": "code",
   "execution_count": 3,
   "id": "a71493e5",
   "metadata": {},
   "outputs": [],
   "source": [
    "from app.indexing.schemas import *"
   ]
  },
  {
   "cell_type": "code",
   "execution_count": 4,
   "id": "06db883b",
   "metadata": {},
   "outputs": [],
   "source": [
    "db.get_session()\n",
    "sync_table(User)\n",
    "sync_table(Video)\n",
    "sync_table(Playlist)"
   ]
  },
  {
   "cell_type": "code",
   "execution_count": 5,
   "id": "e0c6471b",
   "metadata": {},
   "outputs": [],
   "source": [
    "import uuid\n",
    "import json\n",
    "from pydantic import BaseModel, Field, validator, root_validator\n",
    "from typing import Optional"
   ]
  },
  {
   "cell_type": "code",
   "execution_count": 6,
   "id": "911ed0dd",
   "metadata": {},
   "outputs": [
    {
     "data": {
      "text/plain": [
       "{'host_id': 'PmZ29Vta7Vc',\n",
       " 'db_id': UUID('fa0cac06-6034-11ec-9f47-acde48001122'),\n",
       " 'host_service': 'youtube',\n",
       " 'title': 'OpenCV Is Another great Package',\n",
       " 'url': 'https://www.youtube.com/watch?v=PmZ29Vta7Vc&t=3250s',\n",
       " 'user_id': UUID('9301d5ea-5544-11ec-b5af-acde48001122')}"
      ]
     },
     "execution_count": 6,
     "metadata": {},
     "output_type": "execute_result"
    }
   ],
   "source": [
    "video_obj = dict(Video.objects.first())\n",
    "video_obj"
   ]
  },
  {
   "cell_type": "code",
   "execution_count": 7,
   "id": "87ad607b",
   "metadata": {},
   "outputs": [],
   "source": [
    "class VideoIndexSchema2(BaseModel):\n",
    "    objectID: str = Field(alias='host_id')\n",
    "    objectType: str = \"Video\"\n",
    "    title: Optional[str]\n",
    "    path: str = Field(alias='host_id')\n",
    "        \n",
    "    @validator(\"path\")\n",
    "    def set_path(cls, v, values, **kwargs):\n",
    "        host_id = v\n",
    "        return f\"/videos/{host_id}\""
   ]
  },
  {
   "cell_type": "code",
   "execution_count": 8,
   "id": "c11a25d5",
   "metadata": {},
   "outputs": [
    {
     "data": {
      "text/plain": [
       "{'objectID': 'PmZ29Vta7Vc',\n",
       " 'objectType': 'Video',\n",
       " 'title': 'OpenCV Is Another great Package',\n",
       " 'path': '/videos/PmZ29Vta7Vc'}"
      ]
     },
     "execution_count": 8,
     "metadata": {},
     "output_type": "execute_result"
    }
   ],
   "source": [
    "VideoIndexSchema(**video_obj).dict()"
   ]
  },
  {
   "cell_type": "code",
   "execution_count": 9,
   "id": "a43b02e7",
   "metadata": {},
   "outputs": [
    {
     "data": {
      "text/plain": [
       "{'db_id': UUID('c52b68ca-6024-11ec-8b94-acde48001122'),\n",
       " 'user_id': None,\n",
       " 'updated': datetime.datetime(2021, 12, 20, 17, 35, 31, 236000),\n",
       " 'host_ids': [],\n",
       " 'title': 'hello world'}"
      ]
     },
     "execution_count": 9,
     "metadata": {},
     "output_type": "execute_result"
    }
   ],
   "source": [
    "playlist_obj = dict(Playlist.objects.first())\n",
    "playlist_obj"
   ]
  },
  {
   "cell_type": "code",
   "execution_count": 10,
   "id": "5ed23da0",
   "metadata": {},
   "outputs": [],
   "source": [
    "class PlaylistIndexSchema2(BaseModel):\n",
    "    objectID: uuid.UUID = Field(alias='db_id')\n",
    "    objectType: str = \"Playlist\"\n",
    "    title: Optional[str]\n",
    "    path: str = Field(default='/')\n",
    "    \n",
    "    @root_validator\n",
    "    def set_defaults(cls, values):\n",
    "        objectID = values.get('objectID')\n",
    "        values['objectID'] = str(objectID)\n",
    "        values['path'] = f\"/playlists/{objectID}\"\n",
    "        return values"
   ]
  },
  {
   "cell_type": "code",
   "execution_count": 11,
   "id": "183bf701",
   "metadata": {},
   "outputs": [],
   "source": [
    "# json.loads(PlaylistIndexSchema(**playlist_obj).json())"
   ]
  },
  {
   "cell_type": "code",
   "execution_count": 12,
   "id": "dd2e8bc9",
   "metadata": {},
   "outputs": [
    {
     "data": {
      "text/plain": [
       "{'objectID': 'c52b68ca-6024-11ec-8b94-acde48001122',\n",
       " 'objectType': 'Playlist',\n",
       " 'title': 'hello world',\n",
       " 'path': '/playlists/c52b68ca-6024-11ec-8b94-acde48001122'}"
      ]
     },
     "execution_count": 12,
     "metadata": {},
     "output_type": "execute_result"
    }
   ],
   "source": [
    "PlaylistIndexSchema(**playlist_obj).dict()"
   ]
  },
  {
   "cell_type": "code",
   "execution_count": 13,
   "id": "2fded87e",
   "metadata": {},
   "outputs": [
    {
     "data": {
      "text/plain": [
       "[{'objectID': 'PmZ29Vta7Vc',\n",
       "  'objectType': 'Video',\n",
       "  'title': 'OpenCV Is Another great Package',\n",
       "  'path': '/videos/PmZ29Vta7Vc'},\n",
       " {'objectID': 'zgQ4WFGMgRM',\n",
       "  'objectType': 'Video',\n",
       "  'title': 'Yet another one!',\n",
       "  'path': '/videos/zgQ4WFGMgRM'},\n",
       " {'objectID': '1eHQIu4r0Bc',\n",
       "  'objectType': 'Video',\n",
       "  'title': 'OpenCV Is Awesome!',\n",
       "  'path': '/videos/1eHQIu4r0Bc'},\n",
       " {'objectID': '5agh7ucYKB4',\n",
       "  'objectType': 'Video',\n",
       "  'title': 'Try Django again',\n",
       "  'path': '/videos/5agh7ucYKB4'},\n",
       " {'objectID': 'zf1sDqym8ik',\n",
       "  'objectType': 'Video',\n",
       "  'title': 'Try Django 2',\n",
       "  'path': '/videos/zf1sDqym8ik'},\n",
       " {'objectID': '9ix7TUGVYIo',\n",
       "  'objectType': 'Video',\n",
       "  'title': None,\n",
       "  'path': '/videos/9ix7TUGVYIo'},\n",
       " {'objectID': 'kd_c99cU0SM',\n",
       "  'objectType': 'Video',\n",
       "  'title': 'My title',\n",
       "  'path': '/videos/kd_c99cU0SM'},\n",
       " {'objectID': '4cJpiOPKH14',\n",
       "  'objectType': 'Video',\n",
       "  'title': 'Star Wars Eclipse – Official Cinematic Reveal Trailer',\n",
       "  'path': '/videos/4cJpiOPKH14'},\n",
       " {'objectID': 'PF3iysOyelg',\n",
       "  'objectType': 'Video',\n",
       "  'title': 'Abc 1234',\n",
       "  'path': '/videos/PF3iysOyelg'},\n",
       " {'objectID': 'myO8fxhDRW0',\n",
       "  'objectType': 'Video',\n",
       "  'title': 'Stuff Made here',\n",
       "  'path': '/videos/myO8fxhDRW0'},\n",
       " {'objectID': 'NyDT3KkscSk',\n",
       "  'objectType': 'Video',\n",
       "  'title': 'AI as an API',\n",
       "  'path': '/videos/NyDT3KkscSk'},\n",
       " {'objectID': 'PtQiiknWUcI',\n",
       "  'objectType': 'Video',\n",
       "  'title': 'Awesome Video',\n",
       "  'path': '/videos/PtQiiknWUcI'},\n",
       " {'objectID': 'SlHBNXW1rTk',\n",
       "  'objectType': 'Video',\n",
       "  'title': 'Try Django Intro',\n",
       "  'path': '/videos/SlHBNXW1rTk'},\n",
       " {'objectID': 'YY9f-6u2Q_c',\n",
       "  'objectType': 'Video',\n",
       "  'title': 'Basic Grayscale',\n",
       "  'path': '/videos/YY9f-6u2Q_c'},\n",
       " {'objectID': 's3T-w2jhDHE',\n",
       "  'objectType': 'Video',\n",
       "  'title': 'ABC 123',\n",
       "  'path': '/videos/s3T-w2jhDHE'},\n",
       " {'objectID': '824JTxCZ3FU',\n",
       "  'objectType': 'Video',\n",
       "  'title': '30 Days of Python',\n",
       "  'path': '/videos/824JTxCZ3FU'},\n",
       " {'objectID': 'znbdYZU-zRE',\n",
       "  'objectType': 'Video',\n",
       "  'title': 'Try Django Video Again',\n",
       "  'path': '/videos/znbdYZU-zRE'},\n",
       " {'objectID': 'IhbTOlGWT_0',\n",
       "  'objectType': 'Video',\n",
       "  'title': 'Video new',\n",
       "  'path': '/videos/IhbTOlGWT_0'},\n",
       " {'objectID': 'izpSH6LUpm4',\n",
       "  'objectType': 'Video',\n",
       "  'title': 'New Video with Redirect',\n",
       "  'path': '/videos/izpSH6LUpm4'},\n",
       " {'objectID': 'b42B-xli-vQ',\n",
       "  'objectType': 'Video',\n",
       "  'title': 'Another cool video',\n",
       "  'path': '/videos/b42B-xli-vQ'},\n",
       " {'objectID': 'Nlq5GQkNWUs',\n",
       "  'objectType': 'Video',\n",
       "  'title': 'New Video!',\n",
       "  'path': '/videos/Nlq5GQkNWUs'},\n",
       " {'objectID': 'BAoDdYNKlAw',\n",
       "  'objectType': 'Video',\n",
       "  'title': 'Try Django 5',\n",
       "  'path': '/videos/BAoDdYNKlAw'},\n",
       " {'objectID': 'Wfu5dPbiyKA',\n",
       "  'objectType': 'Video',\n",
       "  'title': 'Try Django abc',\n",
       "  'path': '/videos/Wfu5dPbiyKA'},\n",
       " {'objectID': '-_pgcFQ0l64',\n",
       "  'objectType': 'Video',\n",
       "  'title': 'Abc 1232',\n",
       "  'path': '/videos/-_pgcFQ0l64'},\n",
       " {'objectID': 'WU0gvPcc3jQ',\n",
       "  'objectType': 'Video',\n",
       "  'title': 'The Matrix Awakens: An Unreal Engine 5 Experience',\n",
       "  'path': '/videos/WU0gvPcc3jQ'},\n",
       " {'objectID': 'OEV8gMkCHXQ',\n",
       "  'objectType': 'Video',\n",
       "  'title': None,\n",
       "  'path': '/videos/OEV8gMkCHXQ'},\n",
       " {'objectID': 'GsIGdRaUjck',\n",
       "  'objectType': 'Video',\n",
       "  'title': 'Try Django 3',\n",
       "  'path': '/videos/GsIGdRaUjck'}]"
      ]
     },
     "execution_count": 13,
     "metadata": {},
     "output_type": "execute_result"
    }
   ],
   "source": [
    "video_q = [dict(x) for x in Video.objects.all()]\n",
    "videos_dataset = [VideoIndexSchema(**x).dict() for x in video_q]\n",
    "videos_dataset"
   ]
  },
  {
   "cell_type": "code",
   "execution_count": 14,
   "id": "2bbf02d6",
   "metadata": {},
   "outputs": [
    {
     "data": {
      "text/plain": [
       "[{'objectID': 'c52b68ca-6024-11ec-8b94-acde48001122',\n",
       "  'objectType': 'Playlist',\n",
       "  'title': 'hello world',\n",
       "  'path': '/playlists/c52b68ca-6024-11ec-8b94-acde48001122'},\n",
       " {'objectID': 'e3a72492-5ea3-11ec-bfdb-acde48001122',\n",
       "  'objectType': 'Playlist',\n",
       "  'title': 'hello world',\n",
       "  'path': '/playlists/e3a72492-5ea3-11ec-bfdb-acde48001122'},\n",
       " {'objectID': '312794ce-5f5b-11ec-8696-acde48001122',\n",
       "  'objectType': 'Playlist',\n",
       "  'title': 'Creator Videos',\n",
       "  'path': '/playlists/312794ce-5f5b-11ec-8696-acde48001122'},\n",
       " {'objectID': '1b56e168-5f5b-11ec-a4c2-acde48001122',\n",
       "  'objectType': 'Playlist',\n",
       "  'title': 'Video Trailers',\n",
       "  'path': '/playlists/1b56e168-5f5b-11ec-a4c2-acde48001122'}]"
      ]
     },
     "execution_count": 14,
     "metadata": {},
     "output_type": "execute_result"
    }
   ],
   "source": [
    "playlist_q = [dict(x) for x in Playlist.objects.all()]\n",
    "playlists_dataset = [PlaylistIndexSchema(**x).dict() for x in playlist_q]\n",
    "playlists_dataset"
   ]
  },
  {
   "cell_type": "code",
   "execution_count": 15,
   "id": "8e3b1cd4",
   "metadata": {},
   "outputs": [],
   "source": [
    "dataset = playlists_dataset + videos_dataset"
   ]
  },
  {
   "cell_type": "code",
   "execution_count": 16,
   "id": "fb2aa5ba",
   "metadata": {},
   "outputs": [
    {
     "data": {
      "text/plain": [
       "[{'objectID': 'c52b68ca-6024-11ec-8b94-acde48001122',\n",
       "  'objectType': 'Playlist',\n",
       "  'title': 'hello world',\n",
       "  'path': '/playlists/c52b68ca-6024-11ec-8b94-acde48001122'},\n",
       " {'objectID': 'e3a72492-5ea3-11ec-bfdb-acde48001122',\n",
       "  'objectType': 'Playlist',\n",
       "  'title': 'hello world',\n",
       "  'path': '/playlists/e3a72492-5ea3-11ec-bfdb-acde48001122'},\n",
       " {'objectID': '312794ce-5f5b-11ec-8696-acde48001122',\n",
       "  'objectType': 'Playlist',\n",
       "  'title': 'Creator Videos',\n",
       "  'path': '/playlists/312794ce-5f5b-11ec-8696-acde48001122'},\n",
       " {'objectID': '1b56e168-5f5b-11ec-a4c2-acde48001122',\n",
       "  'objectType': 'Playlist',\n",
       "  'title': 'Video Trailers',\n",
       "  'path': '/playlists/1b56e168-5f5b-11ec-a4c2-acde48001122'},\n",
       " {'objectID': 'PmZ29Vta7Vc',\n",
       "  'objectType': 'Video',\n",
       "  'title': 'OpenCV Is Another great Package',\n",
       "  'path': '/videos/PmZ29Vta7Vc'},\n",
       " {'objectID': 'zgQ4WFGMgRM',\n",
       "  'objectType': 'Video',\n",
       "  'title': 'Yet another one!',\n",
       "  'path': '/videos/zgQ4WFGMgRM'},\n",
       " {'objectID': '1eHQIu4r0Bc',\n",
       "  'objectType': 'Video',\n",
       "  'title': 'OpenCV Is Awesome!',\n",
       "  'path': '/videos/1eHQIu4r0Bc'},\n",
       " {'objectID': '5agh7ucYKB4',\n",
       "  'objectType': 'Video',\n",
       "  'title': 'Try Django again',\n",
       "  'path': '/videos/5agh7ucYKB4'},\n",
       " {'objectID': 'zf1sDqym8ik',\n",
       "  'objectType': 'Video',\n",
       "  'title': 'Try Django 2',\n",
       "  'path': '/videos/zf1sDqym8ik'},\n",
       " {'objectID': '9ix7TUGVYIo',\n",
       "  'objectType': 'Video',\n",
       "  'title': None,\n",
       "  'path': '/videos/9ix7TUGVYIo'},\n",
       " {'objectID': 'kd_c99cU0SM',\n",
       "  'objectType': 'Video',\n",
       "  'title': 'My title',\n",
       "  'path': '/videos/kd_c99cU0SM'},\n",
       " {'objectID': '4cJpiOPKH14',\n",
       "  'objectType': 'Video',\n",
       "  'title': 'Star Wars Eclipse – Official Cinematic Reveal Trailer',\n",
       "  'path': '/videos/4cJpiOPKH14'},\n",
       " {'objectID': 'PF3iysOyelg',\n",
       "  'objectType': 'Video',\n",
       "  'title': 'Abc 1234',\n",
       "  'path': '/videos/PF3iysOyelg'},\n",
       " {'objectID': 'myO8fxhDRW0',\n",
       "  'objectType': 'Video',\n",
       "  'title': 'Stuff Made here',\n",
       "  'path': '/videos/myO8fxhDRW0'},\n",
       " {'objectID': 'NyDT3KkscSk',\n",
       "  'objectType': 'Video',\n",
       "  'title': 'AI as an API',\n",
       "  'path': '/videos/NyDT3KkscSk'},\n",
       " {'objectID': 'PtQiiknWUcI',\n",
       "  'objectType': 'Video',\n",
       "  'title': 'Awesome Video',\n",
       "  'path': '/videos/PtQiiknWUcI'},\n",
       " {'objectID': 'SlHBNXW1rTk',\n",
       "  'objectType': 'Video',\n",
       "  'title': 'Try Django Intro',\n",
       "  'path': '/videos/SlHBNXW1rTk'},\n",
       " {'objectID': 'YY9f-6u2Q_c',\n",
       "  'objectType': 'Video',\n",
       "  'title': 'Basic Grayscale',\n",
       "  'path': '/videos/YY9f-6u2Q_c'},\n",
       " {'objectID': 's3T-w2jhDHE',\n",
       "  'objectType': 'Video',\n",
       "  'title': 'ABC 123',\n",
       "  'path': '/videos/s3T-w2jhDHE'},\n",
       " {'objectID': '824JTxCZ3FU',\n",
       "  'objectType': 'Video',\n",
       "  'title': '30 Days of Python',\n",
       "  'path': '/videos/824JTxCZ3FU'},\n",
       " {'objectID': 'znbdYZU-zRE',\n",
       "  'objectType': 'Video',\n",
       "  'title': 'Try Django Video Again',\n",
       "  'path': '/videos/znbdYZU-zRE'},\n",
       " {'objectID': 'IhbTOlGWT_0',\n",
       "  'objectType': 'Video',\n",
       "  'title': 'Video new',\n",
       "  'path': '/videos/IhbTOlGWT_0'},\n",
       " {'objectID': 'izpSH6LUpm4',\n",
       "  'objectType': 'Video',\n",
       "  'title': 'New Video with Redirect',\n",
       "  'path': '/videos/izpSH6LUpm4'},\n",
       " {'objectID': 'b42B-xli-vQ',\n",
       "  'objectType': 'Video',\n",
       "  'title': 'Another cool video',\n",
       "  'path': '/videos/b42B-xli-vQ'},\n",
       " {'objectID': 'Nlq5GQkNWUs',\n",
       "  'objectType': 'Video',\n",
       "  'title': 'New Video!',\n",
       "  'path': '/videos/Nlq5GQkNWUs'},\n",
       " {'objectID': 'BAoDdYNKlAw',\n",
       "  'objectType': 'Video',\n",
       "  'title': 'Try Django 5',\n",
       "  'path': '/videos/BAoDdYNKlAw'},\n",
       " {'objectID': 'Wfu5dPbiyKA',\n",
       "  'objectType': 'Video',\n",
       "  'title': 'Try Django abc',\n",
       "  'path': '/videos/Wfu5dPbiyKA'},\n",
       " {'objectID': '-_pgcFQ0l64',\n",
       "  'objectType': 'Video',\n",
       "  'title': 'Abc 1232',\n",
       "  'path': '/videos/-_pgcFQ0l64'},\n",
       " {'objectID': 'WU0gvPcc3jQ',\n",
       "  'objectType': 'Video',\n",
       "  'title': 'The Matrix Awakens: An Unreal Engine 5 Experience',\n",
       "  'path': '/videos/WU0gvPcc3jQ'},\n",
       " {'objectID': 'OEV8gMkCHXQ',\n",
       "  'objectType': 'Video',\n",
       "  'title': None,\n",
       "  'path': '/videos/OEV8gMkCHXQ'},\n",
       " {'objectID': 'GsIGdRaUjck',\n",
       "  'objectType': 'Video',\n",
       "  'title': 'Try Django 3',\n",
       "  'path': '/videos/GsIGdRaUjck'}]"
      ]
     },
     "execution_count": 16,
     "metadata": {},
     "output_type": "execute_result"
    }
   ],
   "source": [
    "dataset"
   ]
  },
  {
   "cell_type": "code",
   "execution_count": null,
   "id": "f80e21de",
   "metadata": {},
   "outputs": [],
   "source": []
  }
 ],
 "metadata": {
  "kernelspec": {
   "display_name": "Python 3 (ipykernel)",
   "language": "python",
   "name": "python3"
  },
  "language_info": {
   "codemirror_mode": {
    "name": "ipython",
    "version": 3
   },
   "file_extension": ".py",
   "mimetype": "text/x-python",
   "name": "python",
   "nbconvert_exporter": "python",
   "pygments_lexer": "ipython3",
   "version": "3.9.7"
  }
 },
 "nbformat": 4,
 "nbformat_minor": 5
}
