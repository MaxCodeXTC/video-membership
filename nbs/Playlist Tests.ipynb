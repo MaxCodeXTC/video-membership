{
 "cells": [
  {
   "cell_type": "code",
   "execution_count": 1,
   "id": "595bc924",
   "metadata": {},
   "outputs": [
    {
     "name": "stdout",
     "output_type": "stream",
     "text": [
      "/Users/cfe/Dev/video-membership\n"
     ]
    }
   ],
   "source": [
    "%cd ~/Dev/video-membership"
   ]
  },
  {
   "cell_type": "code",
   "execution_count": 2,
   "id": "921f0230",
   "metadata": {},
   "outputs": [],
   "source": [
    "import datetime\n",
    "from app import db, config\n",
    "from app.playlists.models import Playlist\n",
    "from app.videos.models import Video\n",
    "from cassandra.cqlengine.management import sync_table"
   ]
  },
  {
   "cell_type": "code",
   "execution_count": 3,
   "id": "06db883b",
   "metadata": {},
   "outputs": [],
   "source": [
    "session = db.get_session()\n",
    "settings = config.get_settings()\n",
    "allow_table_drop = False"
   ]
  },
  {
   "cell_type": "code",
   "execution_count": 4,
   "id": "c512f59a",
   "metadata": {},
   "outputs": [],
   "source": [
    "if allow_table_drop:\n",
    "    session.execute(f\"DROP TABLE IF EXISTS {settings.keyspace}.playlist\")"
   ]
  },
  {
   "cell_type": "code",
   "execution_count": 5,
   "id": "34bdad09",
   "metadata": {},
   "outputs": [],
   "source": [
    "sync_table(Playlist)\n",
    "sync_table(Video)"
   ]
  },
  {
   "cell_type": "code",
   "execution_count": 6,
   "id": "ffabacd8",
   "metadata": {},
   "outputs": [
    {
     "data": {
      "text/plain": [
       "Playlist(db_id=UUID('e3a72492-5ea3-11ec-bfdb-acde48001122'), user_id=None, updated=datetime.datetime(2021, 12, 16, 19, 10, 49, 554858), host_ids=[], title='hello world')"
      ]
     },
     "execution_count": 6,
     "metadata": {},
     "output_type": "execute_result"
    }
   ],
   "source": [
    "obj = Playlist.objects.create(title='hello world')\n",
    "obj"
   ]
  },
  {
   "cell_type": "code",
   "execution_count": 7,
   "id": "4fd7a024",
   "metadata": {},
   "outputs": [],
   "source": [
    "# obj.updated = datetime.datetime.utcnow()\n",
    "# obj.save()"
   ]
  },
  {
   "cell_type": "code",
   "execution_count": 8,
   "id": "a0a8519c",
   "metadata": {},
   "outputs": [
    {
     "data": {
      "text/plain": [
       "Playlist(db_id=UUID('e3a72492-5ea3-11ec-bfdb-acde48001122'), user_id=None, updated=datetime.datetime(2021, 12, 16, 19, 10, 49, 554858), host_ids=['some new list'], title='hello world')"
      ]
     },
     "execution_count": 8,
     "metadata": {},
     "output_type": "execute_result"
    }
   ],
   "source": [
    "obj.host_ids = ['some new list']\n",
    "obj.save()\n",
    "obj"
   ]
  },
  {
   "cell_type": "code",
   "execution_count": 14,
   "id": "44c9d8e8",
   "metadata": {},
   "outputs": [
    {
     "data": {
      "text/plain": [
       "[Playlist(db_id=UUID('e3a72492-5ea3-11ec-bfdb-acde48001122'), user_id=None, updated=datetime.datetime(2021, 12, 16, 19, 10, 53, 552000), host_ids=['9ix7TUGVYIo', '4cJpiOPKH14', 'PtQiiknWUcI'], title='hello world')]"
      ]
     },
     "execution_count": 14,
     "metadata": {},
     "output_type": "execute_result"
    }
   ],
   "source": [
    "list(Playlist.objects.all())"
   ]
  },
  {
   "cell_type": "code",
   "execution_count": 9,
   "id": "7b73f396",
   "metadata": {},
   "outputs": [
    {
     "data": {
      "text/plain": [
       "['9ix7TUGVYIo', '4cJpiOPKH14', 'PtQiiknWUcI', 'GlDr6aKBtFg', 'nNpvWBuTfrc']"
      ]
     },
     "execution_count": 9,
     "metadata": {},
     "output_type": "execute_result"
    }
   ],
   "source": [
    "host_ids = list(Video.objects.all().limit(5).values_list(\"host_id\", flat=True))\n",
    "host_ids"
   ]
  },
  {
   "cell_type": "code",
   "execution_count": 10,
   "id": "ecec3c5e",
   "metadata": {},
   "outputs": [
    {
     "data": {
      "text/plain": [
       "True"
      ]
     },
     "execution_count": 10,
     "metadata": {},
     "output_type": "execute_result"
    }
   ],
   "source": [
    "obj.add_host_ids(host_ids=host_ids[:3], replace_all=True)"
   ]
  },
  {
   "cell_type": "code",
   "execution_count": 11,
   "id": "a49577c8",
   "metadata": {},
   "outputs": [
    {
     "data": {
      "text/plain": [
       "['9ix7TUGVYIo', '4cJpiOPKH14', 'PtQiiknWUcI']"
      ]
     },
     "execution_count": 11,
     "metadata": {},
     "output_type": "execute_result"
    }
   ],
   "source": [
    "obj.host_ids"
   ]
  },
  {
   "cell_type": "code",
   "execution_count": 12,
   "id": "674cacfc",
   "metadata": {},
   "outputs": [
    {
     "data": {
      "text/plain": [
       "[Video(title=Star Wars Eclipse – Official Cinematic Reveal Trailer, host_id=4cJpiOPKH14, host_service=youtube),\n",
       " Video(title=None, host_id=9ix7TUGVYIo, host_service=youtube),\n",
       " Video(title=None, host_id=PtQiiknWUcI, host_service=youtube)]"
      ]
     },
     "execution_count": 12,
     "metadata": {},
     "output_type": "execute_result"
    }
   ],
   "source": [
    "video_q = list(Video.objects.filter(host_id__in=obj.host_ids))\n",
    "video_q"
   ]
  },
  {
   "cell_type": "code",
   "execution_count": 13,
   "id": "a9281d19",
   "metadata": {},
   "outputs": [
    {
     "data": {
      "text/plain": [
       "[Video(title=None, host_id=9ix7TUGVYIo, host_service=youtube),\n",
       " Video(title=Star Wars Eclipse – Official Cinematic Reveal Trailer, host_id=4cJpiOPKH14, host_service=youtube),\n",
       " Video(title=None, host_id=PtQiiknWUcI, host_service=youtube)]"
      ]
     },
     "execution_count": 13,
     "metadata": {},
     "output_type": "execute_result"
    }
   ],
   "source": [
    "obj.get_videos()"
   ]
  }
 ],
 "metadata": {
  "kernelspec": {
   "display_name": "Python 3 (ipykernel)",
   "language": "python",
   "name": "python3"
  },
  "language_info": {
   "codemirror_mode": {
    "name": "ipython",
    "version": 3
   },
   "file_extension": ".py",
   "mimetype": "text/x-python",
   "name": "python",
   "nbconvert_exporter": "python",
   "pygments_lexer": "ipython3",
   "version": "3.9.7"
  }
 },
 "nbformat": 4,
 "nbformat_minor": 5
}
